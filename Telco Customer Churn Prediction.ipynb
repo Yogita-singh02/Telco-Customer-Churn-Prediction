{
 "cells": [
  {
   "cell_type": "markdown",
   "id": "a2354bac",
   "metadata": {},
   "source": [
    "# Problem-\n",
    "1)Telco Customer Churn Prediction: \n",
    "Churn is a one of the biggest problems in the telecom industry. \n",
    "Research has shown that the average monthly churn rate among the top 4 wireless carriers in the US is 1.9% - 2%.\n",
    "\n",
    "Objective: To create a classification filter (Using Logistics Regression & KNN Classification Algorithm)\n",
    "to determine Churn from Telecom dataset. Compare the performance of the filters.\n"
   ]
  },
  {
   "cell_type": "code",
   "execution_count": 2,
   "id": "2d1436ac",
   "metadata": {},
   "outputs": [],
   "source": [
    "import warnings\n",
    "warnings.filterwarnings('ignore')\n",
    "import numpy as np\n",
    "import pandas as pd\n",
    "import matplotlib.pyplot as plt\n",
    "import seaborn as sns"
   ]
  },
  {
   "cell_type": "code",
   "execution_count": 3,
   "id": "2c5a5999",
   "metadata": {},
   "outputs": [],
   "source": [
    "train= pd.read_csv('Telecom churn train.csv')\n",
    "test= pd.read_csv('Telecom churn test.csv')"
   ]
  },
  {
   "cell_type": "code",
   "execution_count": 4,
   "id": "d0dd223f",
   "metadata": {},
   "outputs": [
    {
     "data": {
      "text/html": [
       "<div>\n",
       "<style scoped>\n",
       "    .dataframe tbody tr th:only-of-type {\n",
       "        vertical-align: middle;\n",
       "    }\n",
       "\n",
       "    .dataframe tbody tr th {\n",
       "        vertical-align: top;\n",
       "    }\n",
       "\n",
       "    .dataframe thead th {\n",
       "        text-align: right;\n",
       "    }\n",
       "</style>\n",
       "<table border=\"1\" class=\"dataframe\">\n",
       "  <thead>\n",
       "    <tr style=\"text-align: right;\">\n",
       "      <th></th>\n",
       "      <th>State</th>\n",
       "      <th>Account length</th>\n",
       "      <th>Area code</th>\n",
       "      <th>International plan</th>\n",
       "      <th>Voice mail plan</th>\n",
       "      <th>Number vmail messages</th>\n",
       "      <th>Total day minutes</th>\n",
       "      <th>Total day calls</th>\n",
       "      <th>Total day charge</th>\n",
       "      <th>Total eve minutes</th>\n",
       "      <th>Total eve calls</th>\n",
       "      <th>Total eve charge</th>\n",
       "      <th>Total night minutes</th>\n",
       "      <th>Total night calls</th>\n",
       "      <th>Total night charge</th>\n",
       "      <th>Total intl minutes</th>\n",
       "      <th>Total intl calls</th>\n",
       "      <th>Total intl charge</th>\n",
       "      <th>Customer service calls</th>\n",
       "      <th>Churn</th>\n",
       "    </tr>\n",
       "  </thead>\n",
       "  <tbody>\n",
       "    <tr>\n",
       "      <th>0</th>\n",
       "      <td>LA</td>\n",
       "      <td>117</td>\n",
       "      <td>408</td>\n",
       "      <td>No</td>\n",
       "      <td>No</td>\n",
       "      <td>0</td>\n",
       "      <td>184.5</td>\n",
       "      <td>97</td>\n",
       "      <td>31.37</td>\n",
       "      <td>351.6</td>\n",
       "      <td>80</td>\n",
       "      <td>29.89</td>\n",
       "      <td>215.8</td>\n",
       "      <td>90</td>\n",
       "      <td>9.71</td>\n",
       "      <td>8.7</td>\n",
       "      <td>4</td>\n",
       "      <td>2.35</td>\n",
       "      <td>1</td>\n",
       "      <td>False</td>\n",
       "    </tr>\n",
       "    <tr>\n",
       "      <th>1</th>\n",
       "      <td>IN</td>\n",
       "      <td>65</td>\n",
       "      <td>415</td>\n",
       "      <td>No</td>\n",
       "      <td>No</td>\n",
       "      <td>0</td>\n",
       "      <td>129.1</td>\n",
       "      <td>137</td>\n",
       "      <td>21.95</td>\n",
       "      <td>228.5</td>\n",
       "      <td>83</td>\n",
       "      <td>19.42</td>\n",
       "      <td>208.8</td>\n",
       "      <td>111</td>\n",
       "      <td>9.40</td>\n",
       "      <td>12.7</td>\n",
       "      <td>6</td>\n",
       "      <td>3.43</td>\n",
       "      <td>4</td>\n",
       "      <td>True</td>\n",
       "    </tr>\n",
       "    <tr>\n",
       "      <th>2</th>\n",
       "      <td>NY</td>\n",
       "      <td>161</td>\n",
       "      <td>415</td>\n",
       "      <td>No</td>\n",
       "      <td>No</td>\n",
       "      <td>0</td>\n",
       "      <td>332.9</td>\n",
       "      <td>67</td>\n",
       "      <td>56.59</td>\n",
       "      <td>317.8</td>\n",
       "      <td>97</td>\n",
       "      <td>27.01</td>\n",
       "      <td>160.6</td>\n",
       "      <td>128</td>\n",
       "      <td>7.23</td>\n",
       "      <td>5.4</td>\n",
       "      <td>9</td>\n",
       "      <td>1.46</td>\n",
       "      <td>4</td>\n",
       "      <td>True</td>\n",
       "    </tr>\n",
       "    <tr>\n",
       "      <th>3</th>\n",
       "      <td>SC</td>\n",
       "      <td>111</td>\n",
       "      <td>415</td>\n",
       "      <td>No</td>\n",
       "      <td>No</td>\n",
       "      <td>0</td>\n",
       "      <td>110.4</td>\n",
       "      <td>103</td>\n",
       "      <td>18.77</td>\n",
       "      <td>137.3</td>\n",
       "      <td>102</td>\n",
       "      <td>11.67</td>\n",
       "      <td>189.6</td>\n",
       "      <td>105</td>\n",
       "      <td>8.53</td>\n",
       "      <td>7.7</td>\n",
       "      <td>6</td>\n",
       "      <td>2.08</td>\n",
       "      <td>2</td>\n",
       "      <td>False</td>\n",
       "    </tr>\n",
       "    <tr>\n",
       "      <th>4</th>\n",
       "      <td>HI</td>\n",
       "      <td>49</td>\n",
       "      <td>510</td>\n",
       "      <td>No</td>\n",
       "      <td>No</td>\n",
       "      <td>0</td>\n",
       "      <td>119.3</td>\n",
       "      <td>117</td>\n",
       "      <td>20.28</td>\n",
       "      <td>215.1</td>\n",
       "      <td>109</td>\n",
       "      <td>18.28</td>\n",
       "      <td>178.7</td>\n",
       "      <td>90</td>\n",
       "      <td>8.04</td>\n",
       "      <td>11.1</td>\n",
       "      <td>1</td>\n",
       "      <td>3.00</td>\n",
       "      <td>1</td>\n",
       "      <td>False</td>\n",
       "    </tr>\n",
       "  </tbody>\n",
       "</table>\n",
       "</div>"
      ],
      "text/plain": [
       "  State  Account length  Area code International plan Voice mail plan  \\\n",
       "0    LA             117        408                 No              No   \n",
       "1    IN              65        415                 No              No   \n",
       "2    NY             161        415                 No              No   \n",
       "3    SC             111        415                 No              No   \n",
       "4    HI              49        510                 No              No   \n",
       "\n",
       "   Number vmail messages  Total day minutes  Total day calls  \\\n",
       "0                      0              184.5               97   \n",
       "1                      0              129.1              137   \n",
       "2                      0              332.9               67   \n",
       "3                      0              110.4              103   \n",
       "4                      0              119.3              117   \n",
       "\n",
       "   Total day charge  Total eve minutes  Total eve calls  Total eve charge  \\\n",
       "0             31.37              351.6               80             29.89   \n",
       "1             21.95              228.5               83             19.42   \n",
       "2             56.59              317.8               97             27.01   \n",
       "3             18.77              137.3              102             11.67   \n",
       "4             20.28              215.1              109             18.28   \n",
       "\n",
       "   Total night minutes  Total night calls  Total night charge  \\\n",
       "0                215.8                 90                9.71   \n",
       "1                208.8                111                9.40   \n",
       "2                160.6                128                7.23   \n",
       "3                189.6                105                8.53   \n",
       "4                178.7                 90                8.04   \n",
       "\n",
       "   Total intl minutes  Total intl calls  Total intl charge  \\\n",
       "0                 8.7                 4               2.35   \n",
       "1                12.7                 6               3.43   \n",
       "2                 5.4                 9               1.46   \n",
       "3                 7.7                 6               2.08   \n",
       "4                11.1                 1               3.00   \n",
       "\n",
       "   Customer service calls  Churn  \n",
       "0                       1  False  \n",
       "1                       4   True  \n",
       "2                       4   True  \n",
       "3                       2  False  \n",
       "4                       1  False  "
      ]
     },
     "execution_count": 4,
     "metadata": {},
     "output_type": "execute_result"
    }
   ],
   "source": [
    "train.head()"
   ]
  },
  {
   "cell_type": "code",
   "execution_count": 5,
   "id": "f3520a43",
   "metadata": {},
   "outputs": [
    {
     "data": {
      "text/plain": [
       "(667, 20)"
      ]
     },
     "execution_count": 5,
     "metadata": {},
     "output_type": "execute_result"
    }
   ],
   "source": [
    "train.shape"
   ]
  },
  {
   "cell_type": "code",
   "execution_count": 6,
   "id": "514341fa",
   "metadata": {},
   "outputs": [
    {
     "data": {
      "text/html": [
       "<div>\n",
       "<style scoped>\n",
       "    .dataframe tbody tr th:only-of-type {\n",
       "        vertical-align: middle;\n",
       "    }\n",
       "\n",
       "    .dataframe tbody tr th {\n",
       "        vertical-align: top;\n",
       "    }\n",
       "\n",
       "    .dataframe thead th {\n",
       "        text-align: right;\n",
       "    }\n",
       "</style>\n",
       "<table border=\"1\" class=\"dataframe\">\n",
       "  <thead>\n",
       "    <tr style=\"text-align: right;\">\n",
       "      <th></th>\n",
       "      <th>State</th>\n",
       "      <th>Account length</th>\n",
       "      <th>Area code</th>\n",
       "      <th>International plan</th>\n",
       "      <th>Voice mail plan</th>\n",
       "      <th>Number vmail messages</th>\n",
       "      <th>Total day minutes</th>\n",
       "      <th>Total day calls</th>\n",
       "      <th>Total day charge</th>\n",
       "      <th>Total eve minutes</th>\n",
       "      <th>Total eve calls</th>\n",
       "      <th>Total eve charge</th>\n",
       "      <th>Total night minutes</th>\n",
       "      <th>Total night calls</th>\n",
       "      <th>Total night charge</th>\n",
       "      <th>Total intl minutes</th>\n",
       "      <th>Total intl calls</th>\n",
       "      <th>Total intl charge</th>\n",
       "      <th>Customer service calls</th>\n",
       "      <th>Churn</th>\n",
       "    </tr>\n",
       "  </thead>\n",
       "  <tbody>\n",
       "    <tr>\n",
       "      <th>0</th>\n",
       "      <td>KS</td>\n",
       "      <td>128</td>\n",
       "      <td>415</td>\n",
       "      <td>No</td>\n",
       "      <td>Yes</td>\n",
       "      <td>25</td>\n",
       "      <td>265.1</td>\n",
       "      <td>110</td>\n",
       "      <td>45.07</td>\n",
       "      <td>197.4</td>\n",
       "      <td>99</td>\n",
       "      <td>16.78</td>\n",
       "      <td>244.7</td>\n",
       "      <td>91</td>\n",
       "      <td>11.01</td>\n",
       "      <td>10.0</td>\n",
       "      <td>3</td>\n",
       "      <td>2.70</td>\n",
       "      <td>1</td>\n",
       "      <td>False</td>\n",
       "    </tr>\n",
       "    <tr>\n",
       "      <th>1</th>\n",
       "      <td>OH</td>\n",
       "      <td>107</td>\n",
       "      <td>415</td>\n",
       "      <td>No</td>\n",
       "      <td>Yes</td>\n",
       "      <td>26</td>\n",
       "      <td>161.6</td>\n",
       "      <td>123</td>\n",
       "      <td>27.47</td>\n",
       "      <td>195.5</td>\n",
       "      <td>103</td>\n",
       "      <td>16.62</td>\n",
       "      <td>254.4</td>\n",
       "      <td>103</td>\n",
       "      <td>11.45</td>\n",
       "      <td>13.7</td>\n",
       "      <td>3</td>\n",
       "      <td>3.70</td>\n",
       "      <td>1</td>\n",
       "      <td>False</td>\n",
       "    </tr>\n",
       "    <tr>\n",
       "      <th>2</th>\n",
       "      <td>NJ</td>\n",
       "      <td>137</td>\n",
       "      <td>415</td>\n",
       "      <td>No</td>\n",
       "      <td>No</td>\n",
       "      <td>0</td>\n",
       "      <td>243.4</td>\n",
       "      <td>114</td>\n",
       "      <td>41.38</td>\n",
       "      <td>121.2</td>\n",
       "      <td>110</td>\n",
       "      <td>10.30</td>\n",
       "      <td>162.6</td>\n",
       "      <td>104</td>\n",
       "      <td>7.32</td>\n",
       "      <td>12.2</td>\n",
       "      <td>5</td>\n",
       "      <td>3.29</td>\n",
       "      <td>0</td>\n",
       "      <td>False</td>\n",
       "    </tr>\n",
       "    <tr>\n",
       "      <th>3</th>\n",
       "      <td>OH</td>\n",
       "      <td>84</td>\n",
       "      <td>408</td>\n",
       "      <td>Yes</td>\n",
       "      <td>No</td>\n",
       "      <td>0</td>\n",
       "      <td>299.4</td>\n",
       "      <td>71</td>\n",
       "      <td>50.90</td>\n",
       "      <td>61.9</td>\n",
       "      <td>88</td>\n",
       "      <td>5.26</td>\n",
       "      <td>196.9</td>\n",
       "      <td>89</td>\n",
       "      <td>8.86</td>\n",
       "      <td>6.6</td>\n",
       "      <td>7</td>\n",
       "      <td>1.78</td>\n",
       "      <td>2</td>\n",
       "      <td>False</td>\n",
       "    </tr>\n",
       "    <tr>\n",
       "      <th>4</th>\n",
       "      <td>OK</td>\n",
       "      <td>75</td>\n",
       "      <td>415</td>\n",
       "      <td>Yes</td>\n",
       "      <td>No</td>\n",
       "      <td>0</td>\n",
       "      <td>166.7</td>\n",
       "      <td>113</td>\n",
       "      <td>28.34</td>\n",
       "      <td>148.3</td>\n",
       "      <td>122</td>\n",
       "      <td>12.61</td>\n",
       "      <td>186.9</td>\n",
       "      <td>121</td>\n",
       "      <td>8.41</td>\n",
       "      <td>10.1</td>\n",
       "      <td>3</td>\n",
       "      <td>2.73</td>\n",
       "      <td>3</td>\n",
       "      <td>False</td>\n",
       "    </tr>\n",
       "  </tbody>\n",
       "</table>\n",
       "</div>"
      ],
      "text/plain": [
       "  State  Account length  Area code International plan Voice mail plan  \\\n",
       "0    KS             128        415                 No             Yes   \n",
       "1    OH             107        415                 No             Yes   \n",
       "2    NJ             137        415                 No              No   \n",
       "3    OH              84        408                Yes              No   \n",
       "4    OK              75        415                Yes              No   \n",
       "\n",
       "   Number vmail messages  Total day minutes  Total day calls  \\\n",
       "0                     25              265.1              110   \n",
       "1                     26              161.6              123   \n",
       "2                      0              243.4              114   \n",
       "3                      0              299.4               71   \n",
       "4                      0              166.7              113   \n",
       "\n",
       "   Total day charge  Total eve minutes  Total eve calls  Total eve charge  \\\n",
       "0             45.07              197.4               99             16.78   \n",
       "1             27.47              195.5              103             16.62   \n",
       "2             41.38              121.2              110             10.30   \n",
       "3             50.90               61.9               88              5.26   \n",
       "4             28.34              148.3              122             12.61   \n",
       "\n",
       "   Total night minutes  Total night calls  Total night charge  \\\n",
       "0                244.7                 91               11.01   \n",
       "1                254.4                103               11.45   \n",
       "2                162.6                104                7.32   \n",
       "3                196.9                 89                8.86   \n",
       "4                186.9                121                8.41   \n",
       "\n",
       "   Total intl minutes  Total intl calls  Total intl charge  \\\n",
       "0                10.0                 3               2.70   \n",
       "1                13.7                 3               3.70   \n",
       "2                12.2                 5               3.29   \n",
       "3                 6.6                 7               1.78   \n",
       "4                10.1                 3               2.73   \n",
       "\n",
       "   Customer service calls  Churn  \n",
       "0                       1  False  \n",
       "1                       1  False  \n",
       "2                       0  False  \n",
       "3                       2  False  \n",
       "4                       3  False  "
      ]
     },
     "execution_count": 6,
     "metadata": {},
     "output_type": "execute_result"
    }
   ],
   "source": [
    "test.head()"
   ]
  },
  {
   "cell_type": "markdown",
   "id": "8cbeda96",
   "metadata": {},
   "source": [
    "We can use the info() method to output some general information about the dataframe"
   ]
  },
  {
   "cell_type": "code",
   "execution_count": 7,
   "id": "ac6ff350",
   "metadata": {},
   "outputs": [
    {
     "name": "stdout",
     "output_type": "stream",
     "text": [
      "<class 'pandas.core.frame.DataFrame'>\n",
      "RangeIndex: 667 entries, 0 to 666\n",
      "Data columns (total 20 columns):\n",
      " #   Column                  Non-Null Count  Dtype  \n",
      "---  ------                  --------------  -----  \n",
      " 0   State                   667 non-null    object \n",
      " 1   Account length          667 non-null    int64  \n",
      " 2   Area code               667 non-null    int64  \n",
      " 3   International plan      667 non-null    object \n",
      " 4   Voice mail plan         667 non-null    object \n",
      " 5   Number vmail messages   667 non-null    int64  \n",
      " 6   Total day minutes       667 non-null    float64\n",
      " 7   Total day calls         667 non-null    int64  \n",
      " 8   Total day charge        667 non-null    float64\n",
      " 9   Total eve minutes       667 non-null    float64\n",
      " 10  Total eve calls         667 non-null    int64  \n",
      " 11  Total eve charge        667 non-null    float64\n",
      " 12  Total night minutes     667 non-null    float64\n",
      " 13  Total night calls       667 non-null    int64  \n",
      " 14  Total night charge      667 non-null    float64\n",
      " 15  Total intl minutes      667 non-null    float64\n",
      " 16  Total intl calls        667 non-null    int64  \n",
      " 17  Total intl charge       667 non-null    float64\n",
      " 18  Customer service calls  667 non-null    int64  \n",
      " 19  Churn                   667 non-null    bool   \n",
      "dtypes: bool(1), float64(8), int64(8), object(3)\n",
      "memory usage: 99.8+ KB\n"
     ]
    }
   ],
   "source": [
    "train.info()"
   ]
  },
  {
   "cell_type": "code",
   "execution_count": 8,
   "id": "ebe36ef3",
   "metadata": {},
   "outputs": [
    {
     "data": {
      "text/plain": [
       "dtype('bool')"
      ]
     },
     "execution_count": 8,
     "metadata": {},
     "output_type": "execute_result"
    }
   ],
   "source": [
    "train['Churn'].dtype"
   ]
  },
  {
   "cell_type": "code",
   "execution_count": 9,
   "id": "ec299836",
   "metadata": {},
   "outputs": [
    {
     "data": {
      "text/plain": [
       "State                     0\n",
       "Account length            0\n",
       "Area code                 0\n",
       "International plan        0\n",
       "Voice mail plan           0\n",
       "Number vmail messages     0\n",
       "Total day minutes         0\n",
       "Total day calls           0\n",
       "Total day charge          0\n",
       "Total eve minutes         0\n",
       "Total eve calls           0\n",
       "Total eve charge          0\n",
       "Total night minutes       0\n",
       "Total night calls         0\n",
       "Total night charge        0\n",
       "Total intl minutes        0\n",
       "Total intl calls          0\n",
       "Total intl charge         0\n",
       "Customer service calls    0\n",
       "Churn                     0\n",
       "dtype: int64"
      ]
     },
     "execution_count": 9,
     "metadata": {},
     "output_type": "execute_result"
    }
   ],
   "source": [
    "# Checking for missing value and duplicate value \n",
    "train.isnull().sum()"
   ]
  },
  {
   "cell_type": "markdown",
   "id": "b95bad51",
   "metadata": {},
   "source": [
    "# Checking duplicate value"
   ]
  },
  {
   "cell_type": "code",
   "execution_count": 10,
   "id": "8e5ed87e",
   "metadata": {},
   "outputs": [
    {
     "data": {
      "text/plain": [
       "0"
      ]
     },
     "execution_count": 10,
     "metadata": {},
     "output_type": "execute_result"
    }
   ],
   "source": [
    "len(train[train.duplicated()])"
   ]
  },
  {
   "cell_type": "markdown",
   "id": "028ce4c9",
   "metadata": {},
   "source": [
    "As of now there are 667 rows and 17 coumns in above dataset.\n",
    "out of which there is 1 boolean data type i.e Churn\n",
    "8 float data type \n",
    "8integer data type ,\n",
    "1 object data type i.e catagarical value(State)\n",
    "there are no missing value present , so need to do the missing imputation,\n",
    "And also there are no duplicate value in the dataset"
   ]
  },
  {
   "cell_type": "markdown",
   "id": "9ec6ae9d",
   "metadata": {},
   "source": [
    "# EXPLORATORY DATA ANALYSIS OF THE DATA SET"
   ]
  },
  {
   "cell_type": "markdown",
   "id": "c42a4a73",
   "metadata": {},
   "source": [
    "Analyzing what the dependant variable said to us i.e 'CHURN'"
   ]
  },
  {
   "cell_type": "code",
   "execution_count": 11,
   "id": "c58210e4",
   "metadata": {},
   "outputs": [
    {
     "data": {
      "text/plain": [
       "array([False,  True])"
      ]
     },
     "execution_count": 11,
     "metadata": {},
     "output_type": "execute_result"
    }
   ],
   "source": [
    "train['Churn'].unique()"
   ]
  },
  {
   "cell_type": "code",
   "execution_count": 12,
   "id": "1855fc1b",
   "metadata": {},
   "outputs": [
    {
     "data": {
      "text/html": [
       "<div>\n",
       "<style scoped>\n",
       "    .dataframe tbody tr th:only-of-type {\n",
       "        vertical-align: middle;\n",
       "    }\n",
       "\n",
       "    .dataframe tbody tr th {\n",
       "        vertical-align: top;\n",
       "    }\n",
       "\n",
       "    .dataframe thead th {\n",
       "        text-align: right;\n",
       "    }\n",
       "</style>\n",
       "<table border=\"1\" class=\"dataframe\">\n",
       "  <thead>\n",
       "    <tr style=\"text-align: right;\">\n",
       "      <th></th>\n",
       "      <th>count</th>\n",
       "      <th>mean</th>\n",
       "      <th>std</th>\n",
       "      <th>min</th>\n",
       "      <th>25%</th>\n",
       "      <th>50%</th>\n",
       "      <th>75%</th>\n",
       "      <th>max</th>\n",
       "    </tr>\n",
       "  </thead>\n",
       "  <tbody>\n",
       "    <tr>\n",
       "      <th>Account length</th>\n",
       "      <td>667.0</td>\n",
       "      <td>102.841079</td>\n",
       "      <td>40.819480</td>\n",
       "      <td>1.00</td>\n",
       "      <td>76.00</td>\n",
       "      <td>102.00</td>\n",
       "      <td>128.000</td>\n",
       "      <td>232.00</td>\n",
       "    </tr>\n",
       "    <tr>\n",
       "      <th>Area code</th>\n",
       "      <td>667.0</td>\n",
       "      <td>436.157421</td>\n",
       "      <td>41.783305</td>\n",
       "      <td>408.00</td>\n",
       "      <td>408.00</td>\n",
       "      <td>415.00</td>\n",
       "      <td>415.000</td>\n",
       "      <td>510.00</td>\n",
       "    </tr>\n",
       "    <tr>\n",
       "      <th>Number vmail messages</th>\n",
       "      <td>667.0</td>\n",
       "      <td>8.407796</td>\n",
       "      <td>13.994480</td>\n",
       "      <td>0.00</td>\n",
       "      <td>0.00</td>\n",
       "      <td>0.00</td>\n",
       "      <td>20.000</td>\n",
       "      <td>51.00</td>\n",
       "    </tr>\n",
       "    <tr>\n",
       "      <th>Total day minutes</th>\n",
       "      <td>667.0</td>\n",
       "      <td>180.948126</td>\n",
       "      <td>55.508628</td>\n",
       "      <td>25.90</td>\n",
       "      <td>146.25</td>\n",
       "      <td>178.30</td>\n",
       "      <td>220.700</td>\n",
       "      <td>334.30</td>\n",
       "    </tr>\n",
       "    <tr>\n",
       "      <th>Total day calls</th>\n",
       "      <td>667.0</td>\n",
       "      <td>100.937031</td>\n",
       "      <td>20.396790</td>\n",
       "      <td>30.00</td>\n",
       "      <td>87.50</td>\n",
       "      <td>101.00</td>\n",
       "      <td>115.000</td>\n",
       "      <td>165.00</td>\n",
       "    </tr>\n",
       "    <tr>\n",
       "      <th>Total day charge</th>\n",
       "      <td>667.0</td>\n",
       "      <td>30.761769</td>\n",
       "      <td>9.436463</td>\n",
       "      <td>4.40</td>\n",
       "      <td>24.86</td>\n",
       "      <td>30.31</td>\n",
       "      <td>37.520</td>\n",
       "      <td>56.83</td>\n",
       "    </tr>\n",
       "    <tr>\n",
       "      <th>Total eve minutes</th>\n",
       "      <td>667.0</td>\n",
       "      <td>203.355322</td>\n",
       "      <td>49.719268</td>\n",
       "      <td>48.10</td>\n",
       "      <td>171.05</td>\n",
       "      <td>203.70</td>\n",
       "      <td>236.450</td>\n",
       "      <td>361.80</td>\n",
       "    </tr>\n",
       "    <tr>\n",
       "      <th>Total eve calls</th>\n",
       "      <td>667.0</td>\n",
       "      <td>100.476762</td>\n",
       "      <td>18.948262</td>\n",
       "      <td>37.00</td>\n",
       "      <td>88.00</td>\n",
       "      <td>101.00</td>\n",
       "      <td>113.000</td>\n",
       "      <td>168.00</td>\n",
       "    </tr>\n",
       "    <tr>\n",
       "      <th>Total eve charge</th>\n",
       "      <td>667.0</td>\n",
       "      <td>17.285262</td>\n",
       "      <td>4.226160</td>\n",
       "      <td>4.09</td>\n",
       "      <td>14.54</td>\n",
       "      <td>17.31</td>\n",
       "      <td>20.095</td>\n",
       "      <td>30.75</td>\n",
       "    </tr>\n",
       "    <tr>\n",
       "      <th>Total night minutes</th>\n",
       "      <td>667.0</td>\n",
       "      <td>199.685307</td>\n",
       "      <td>49.759931</td>\n",
       "      <td>23.20</td>\n",
       "      <td>167.95</td>\n",
       "      <td>201.60</td>\n",
       "      <td>231.500</td>\n",
       "      <td>367.70</td>\n",
       "    </tr>\n",
       "    <tr>\n",
       "      <th>Total night calls</th>\n",
       "      <td>667.0</td>\n",
       "      <td>100.113943</td>\n",
       "      <td>20.172505</td>\n",
       "      <td>42.00</td>\n",
       "      <td>86.00</td>\n",
       "      <td>100.00</td>\n",
       "      <td>113.500</td>\n",
       "      <td>175.00</td>\n",
       "    </tr>\n",
       "    <tr>\n",
       "      <th>Total night charge</th>\n",
       "      <td>667.0</td>\n",
       "      <td>8.985907</td>\n",
       "      <td>2.239429</td>\n",
       "      <td>1.04</td>\n",
       "      <td>7.56</td>\n",
       "      <td>9.07</td>\n",
       "      <td>10.420</td>\n",
       "      <td>16.55</td>\n",
       "    </tr>\n",
       "    <tr>\n",
       "      <th>Total intl minutes</th>\n",
       "      <td>667.0</td>\n",
       "      <td>10.238381</td>\n",
       "      <td>2.807850</td>\n",
       "      <td>0.00</td>\n",
       "      <td>8.60</td>\n",
       "      <td>10.50</td>\n",
       "      <td>12.050</td>\n",
       "      <td>18.30</td>\n",
       "    </tr>\n",
       "    <tr>\n",
       "      <th>Total intl calls</th>\n",
       "      <td>667.0</td>\n",
       "      <td>4.527736</td>\n",
       "      <td>2.482442</td>\n",
       "      <td>0.00</td>\n",
       "      <td>3.00</td>\n",
       "      <td>4.00</td>\n",
       "      <td>6.000</td>\n",
       "      <td>18.00</td>\n",
       "    </tr>\n",
       "    <tr>\n",
       "      <th>Total intl charge</th>\n",
       "      <td>667.0</td>\n",
       "      <td>2.764948</td>\n",
       "      <td>0.758167</td>\n",
       "      <td>0.00</td>\n",
       "      <td>2.32</td>\n",
       "      <td>2.84</td>\n",
       "      <td>3.255</td>\n",
       "      <td>4.94</td>\n",
       "    </tr>\n",
       "    <tr>\n",
       "      <th>Customer service calls</th>\n",
       "      <td>667.0</td>\n",
       "      <td>1.563718</td>\n",
       "      <td>1.333357</td>\n",
       "      <td>0.00</td>\n",
       "      <td>1.00</td>\n",
       "      <td>1.00</td>\n",
       "      <td>2.000</td>\n",
       "      <td>8.00</td>\n",
       "    </tr>\n",
       "  </tbody>\n",
       "</table>\n",
       "</div>"
      ],
      "text/plain": [
       "                        count        mean        std     min     25%     50%  \\\n",
       "Account length          667.0  102.841079  40.819480    1.00   76.00  102.00   \n",
       "Area code               667.0  436.157421  41.783305  408.00  408.00  415.00   \n",
       "Number vmail messages   667.0    8.407796  13.994480    0.00    0.00    0.00   \n",
       "Total day minutes       667.0  180.948126  55.508628   25.90  146.25  178.30   \n",
       "Total day calls         667.0  100.937031  20.396790   30.00   87.50  101.00   \n",
       "Total day charge        667.0   30.761769   9.436463    4.40   24.86   30.31   \n",
       "Total eve minutes       667.0  203.355322  49.719268   48.10  171.05  203.70   \n",
       "Total eve calls         667.0  100.476762  18.948262   37.00   88.00  101.00   \n",
       "Total eve charge        667.0   17.285262   4.226160    4.09   14.54   17.31   \n",
       "Total night minutes     667.0  199.685307  49.759931   23.20  167.95  201.60   \n",
       "Total night calls       667.0  100.113943  20.172505   42.00   86.00  100.00   \n",
       "Total night charge      667.0    8.985907   2.239429    1.04    7.56    9.07   \n",
       "Total intl minutes      667.0   10.238381   2.807850    0.00    8.60   10.50   \n",
       "Total intl calls        667.0    4.527736   2.482442    0.00    3.00    4.00   \n",
       "Total intl charge       667.0    2.764948   0.758167    0.00    2.32    2.84   \n",
       "Customer service calls  667.0    1.563718   1.333357    0.00    1.00    1.00   \n",
       "\n",
       "                            75%     max  \n",
       "Account length          128.000  232.00  \n",
       "Area code               415.000  510.00  \n",
       "Number vmail messages    20.000   51.00  \n",
       "Total day minutes       220.700  334.30  \n",
       "Total day calls         115.000  165.00  \n",
       "Total day charge         37.520   56.83  \n",
       "Total eve minutes       236.450  361.80  \n",
       "Total eve calls         113.000  168.00  \n",
       "Total eve charge         20.095   30.75  \n",
       "Total night minutes     231.500  367.70  \n",
       "Total night calls       113.500  175.00  \n",
       "Total night charge       10.420   16.55  \n",
       "Total intl minutes       12.050   18.30  \n",
       "Total intl calls          6.000   18.00  \n",
       "Total intl charge         3.255    4.94  \n",
       "Customer service calls    2.000    8.00  "
      ]
     },
     "execution_count": 12,
     "metadata": {},
     "output_type": "execute_result"
    }
   ],
   "source": [
    "train.describe().T"
   ]
  },
  {
   "cell_type": "code",
   "execution_count": 13,
   "id": "ac67c70b",
   "metadata": {},
   "outputs": [
    {
     "data": {
      "text/html": [
       "<div>\n",
       "<style scoped>\n",
       "    .dataframe tbody tr th:only-of-type {\n",
       "        vertical-align: middle;\n",
       "    }\n",
       "\n",
       "    .dataframe tbody tr th {\n",
       "        vertical-align: top;\n",
       "    }\n",
       "\n",
       "    .dataframe thead th {\n",
       "        text-align: right;\n",
       "    }\n",
       "</style>\n",
       "<table border=\"1\" class=\"dataframe\">\n",
       "  <thead>\n",
       "    <tr style=\"text-align: right;\">\n",
       "      <th></th>\n",
       "      <th>count</th>\n",
       "      <th>unique</th>\n",
       "      <th>top</th>\n",
       "      <th>freq</th>\n",
       "    </tr>\n",
       "  </thead>\n",
       "  <tbody>\n",
       "    <tr>\n",
       "      <th>State</th>\n",
       "      <td>667</td>\n",
       "      <td>51</td>\n",
       "      <td>AZ</td>\n",
       "      <td>19</td>\n",
       "    </tr>\n",
       "    <tr>\n",
       "      <th>International plan</th>\n",
       "      <td>667</td>\n",
       "      <td>2</td>\n",
       "      <td>No</td>\n",
       "      <td>614</td>\n",
       "    </tr>\n",
       "    <tr>\n",
       "      <th>Voice mail plan</th>\n",
       "      <td>667</td>\n",
       "      <td>2</td>\n",
       "      <td>No</td>\n",
       "      <td>478</td>\n",
       "    </tr>\n",
       "  </tbody>\n",
       "</table>\n",
       "</div>"
      ],
      "text/plain": [
       "                   count unique top freq\n",
       "State                667     51  AZ   19\n",
       "International plan   667      2  No  614\n",
       "Voice mail plan      667      2  No  478"
      ]
     },
     "execution_count": 13,
     "metadata": {},
     "output_type": "execute_result"
    }
   ],
   "source": [
    "train.describe(include=['object']).T"
   ]
  },
  {
   "cell_type": "code",
   "execution_count": 14,
   "id": "ef3adfe9",
   "metadata": {},
   "outputs": [
    {
     "data": {
      "text/plain": [
       "False    572\n",
       "True      95\n",
       "Name: Churn, dtype: int64"
      ]
     },
     "execution_count": 14,
     "metadata": {},
     "output_type": "execute_result"
    }
   ],
   "source": [
    "# printing the count of time and false in 'Churn' feauture\n",
    "train[\"Churn\"].value_counts()"
   ]
  },
  {
   "cell_type": "code",
   "execution_count": 15,
   "id": "632e897d",
   "metadata": {},
   "outputs": [
    {
     "data": {
      "image/png": "[encoded data removed]",
      "text/plain": [
       "<Figure size 576x576 with 1 Axes>"
      ]
     },
     "metadata": {},
     "output_type": "display_data"
    }
   ],
   "source": [
    "# To get the pie chart to analyze churn\n",
    "train['Churn'].value_counts().plot.pie(explode=[0.05,0.05],autopct='%1.1f%%', startangle=90 , shadow=True,figsize=(8,8))\n",
    "plt.title('Pie chart for Churn')\n",
    "plt.show()"
   ]
  },
  {
   "cell_type": "code",
   "execution_count": 16,
   "id": "ce1ccfd1",
   "metadata": {},
   "outputs": [
    {
     "data": {
      "text/plain": [
       "<AxesSubplot:xlabel='Churn', ylabel='count'>"
      ]
     },
     "execution_count": 16,
     "metadata": {},
     "output_type": "execute_result"
    },
    {
     "data": {
      "image/png": "[encoded data removed]",
      "text/plain": [
       "<Figure size 432x288 with 1 Axes>"
      ]
     },
     "metadata": {
      "needs_background": "light"
     },
     "output_type": "display_data"
    }
   ],
   "source": [
    "sns.countplot(x=train['Churn'])"
   ]
  },
  {
   "cell_type": "markdown",
   "id": "bda8dff5",
   "metadata": {},
   "source": [
    "After analyzing the churn columns, we had little to say almost 14% of customer have churned ."
   ]
  },
  {
   "cell_type": "markdown",
   "id": "1d78d213",
   "metadata": {},
   "source": [
    "# Analyzing State columns "
   ]
  },
  {
   "cell_type": "code",
   "execution_count": 17,
   "id": "27ba22a9",
   "metadata": {},
   "outputs": [
    {
     "data": {
      "text/plain": [
       "array(['LA', 'IN', 'NY', 'SC', 'HI', 'AK', 'MI', 'ID', 'VA', 'WI', 'MN',\n",
       "       'VT', 'MT', 'MA', 'KY', 'CO', 'AZ', 'CA', 'WA', 'NE', 'OH', 'MO',\n",
       "       'AL', 'NH', 'NM', 'OR', 'TX', 'MS', 'WY', 'FL', 'KS', 'NC', 'SD',\n",
       "       'OK', 'CT', 'RI', 'DE', 'UT', 'NV', 'DC', 'ME', 'IL', 'NJ', 'MD',\n",
       "       'WV', 'PA', 'ND', 'AR', 'TN', 'IA', 'GA'], dtype=object)"
      ]
     },
     "execution_count": 17,
     "metadata": {},
     "output_type": "execute_result"
    }
   ],
   "source": [
    "# printing the unique value of state column\n",
    "train['State'].unique()"
   ]
  },
  {
   "cell_type": "code",
   "execution_count": 18,
   "id": "a037442c",
   "metadata": {},
   "outputs": [],
   "source": [
    "# train['State'].unique().count"
   ]
  },
  {
   "cell_type": "code",
   "execution_count": 19,
   "id": "dee30bf4",
   "metadata": {},
   "outputs": [
    {
     "data": {
      "image/png": "[encoded data removed]",
      "text/plain": [
       "<Figure size 1080x576 with 1 Axes>"
      ]
     },
     "metadata": {},
     "output_type": "display_data"
    }
   ],
   "source": [
    "# Comparing state and churn using countplot\n",
    "sns.set(style='darkgrid')\n",
    "plt.figure(figsize=(15,8))\n",
    "ax=sns.countplot(x='State',hue='Churn',data=train)\n",
    "plt.show()"
   ]
  },
  {
   "cell_type": "code",
   "execution_count": 20,
   "id": "d0d200eb",
   "metadata": {},
   "outputs": [
    {
     "data": {
      "image/png": "[encoded data removed]",
      "text/plain": [
       "<Figure size 864x504 with 1 Axes>"
      ]
     },
     "metadata": {},
     "output_type": "display_data"
    }
   ],
   "source": [
    "plt.rcParams['figure.figsize']=(12,7)\n",
    "color=plt.cm.copper(np.linspace(0,0.5,20))\n",
    "((train.groupby(['State'])['Churn'].mean())*100).sort_values(ascending=False).head(6).plot.bar(color=['violet','indigo','b','g','y','orange','r'])\n",
    "plt.title(\"State with most Churn percentage\",fontsize=20)\n",
    "plt.xlabel('State',fontsize=20)\n",
    "plt.ylabel('percentage',fontsize=15)\n",
    "plt.show()\n"
   ]
  },
  {
   "cell_type": "code",
   "execution_count": 21,
   "id": "cb6bdb80",
   "metadata": {},
   "outputs": [
    {
     "name": "stdout",
     "output_type": "stream",
     "text": [
      "Churn  False  True  Percentage_Churn\n",
      "State                               \n",
      "AK         9     0          0.000000\n",
      "AL        13     1          7.142857\n",
      "AR         8     0          0.000000\n",
      "AZ        18     1          5.263158\n",
      "CA         6     4         40.000000\n",
      "CO         5     2         28.571429\n",
      "CT        14     1          6.666667\n",
      "DC         9     0          0.000000\n",
      "DE         9     1         10.000000\n",
      "FL         8     1         11.111111\n",
      "GA         5     0          0.000000\n",
      "HI         8     1         11.111111\n",
      "IA         6     0          0.000000\n",
      "ID        13     4         23.529412\n",
      "IL        12     1          7.692308\n",
      "IN        14     3         17.647059\n",
      "KS        15     3         16.666667\n",
      "KY        14     2         12.500000\n",
      "LA        15     1          6.250000\n",
      "MA        10     3         23.076923\n",
      "MD         7     3         30.000000\n",
      "ME        11     2         15.384615\n",
      "MI        12     3         20.000000\n",
      "MN        12     2         14.285714\n",
      "MO        10     2         16.666667\n",
      "MS        14     3         17.647059\n",
      "MT        11     4         26.666667\n",
      "NC        10     2         16.666667\n",
      "ND        16     2         11.111111\n",
      "NE        15     1          6.250000\n",
      "NH        13     0          0.000000\n",
      "NJ        14     4         22.222222\n",
      "NM        16     2         11.111111\n",
      "NV         4     1         20.000000\n",
      "NY        12     3         20.000000\n",
      "OH        12     0          0.000000\n",
      "OK         7     2         22.222222\n",
      "OR        12     4         25.000000\n",
      "PA         9     0          0.000000\n",
      "RI        14     3         17.647059\n",
      "SC         8     3         27.272727\n",
      "SD         9     2         18.181818\n",
      "TN        12     0          0.000000\n",
      "TX        15     2         11.764706\n",
      "UT        10     2         16.666667\n",
      "VA         9     1         10.000000\n",
      "VT        14     2         12.500000\n",
      "WA        14     4         22.222222\n",
      "WI        14     3         17.647059\n",
      "WV        15     3         16.666667\n",
      "WY        10     1          9.090909\n"
     ]
    }
   ],
   "source": [
    "# calculating state vs churn percentage \n",
    "state_data=pd.crosstab(train['State'],train['Churn'])\n",
    "state_data['Percentage_Churn']=state_data.apply(lambda x: x[1]*100/(x[0]+x[1]),axis=1)\n",
    "print(state_data)\n"
   ]
  },
  {
   "cell_type": "code",
   "execution_count": 22,
   "id": "430083fa",
   "metadata": {},
   "outputs": [
    {
     "data": {
      "text/plain": [
       "State\n",
       "CA    0.400000\n",
       "MD    0.300000\n",
       "CO    0.285714\n",
       "SC    0.272727\n",
       "MT    0.266667\n",
       "OR    0.250000\n",
       "ID    0.235294\n",
       "MA    0.230769\n",
       "OK    0.222222\n",
       "NJ    0.222222\n",
       "Name: Churn, dtype: float64"
      ]
     },
     "execution_count": 22,
     "metadata": {},
     "output_type": "execute_result"
    }
   ],
   "source": [
    "# showing the top 10 most churn state on basis of above list\n",
    "train.groupby(['State'])['Churn'].mean().sort_values(ascending= False).head(10)"
   ]
  },
  {
   "cell_type": "markdown",
   "id": "d2b83ffb",
   "metadata": {},
   "source": [
    "There are 51 unique state present who have different churn rate. \n",
    "From the above analysis CA,MD,CO,SC,MT are the most ones who have a higher churn rate of more than 25 %. \n",
    "The reason for this churn rate from a particular state may be due to the low coverage of the cellular network .\n"
   ]
  },
  {
   "cell_type": "markdown",
   "id": "dacdeb89",
   "metadata": {},
   "source": [
    "# Analyzing Area Code column"
   ]
  },
  {
   "cell_type": "code",
   "execution_count": 23,
   "id": "24fa89dd",
   "metadata": {},
   "outputs": [
    {
     "name": "stdout",
     "output_type": "stream",
     "text": [
      "Churn      False  True  Percentage_Churn\n",
      "Area code                               \n",
      "408          141    28         16.568047\n",
      "415          296    41         12.166172\n",
      "510          135    26         16.149068\n"
     ]
    }
   ],
   "source": [
    "# calculating Area Cide vs churn percentage \n",
    "Areacode_data=pd.crosstab(train['Area code'],train['Churn'])\n",
    "Areacode_data['Percentage_Churn']=Areacode_data.apply(lambda x: x[1]*100/(x[0]+x[1]),axis=1)\n",
    "print(Areacode_data)"
   ]
  },
  {
   "cell_type": "markdown",
   "id": "7223ab29",
   "metadata": {},
   "source": [
    "In the above dataset , we notice that there are only 3 unique value i.e 408,415,510and churn rate of these code are almost same .\n",
    "We don't think there is any relation present between 'area code' and 'churn' due to which customer will leave the operator."
   ]
  },
  {
   "cell_type": "markdown",
   "id": "bd9ffab0",
   "metadata": {},
   "source": [
    "# Analyzing International Plan"
   ]
  },
  {
   "cell_type": "code",
   "execution_count": 24,
   "id": "395b01d7",
   "metadata": {},
   "outputs": [
    {
     "data": {
      "text/plain": [
       "No     614\n",
       "Yes     53\n",
       "Name: International plan, dtype: int64"
      ]
     },
     "execution_count": 24,
     "metadata": {},
     "output_type": "execute_result"
    }
   ],
   "source": [
    "train['International plan'].value_counts()"
   ]
  },
  {
   "cell_type": "code",
   "execution_count": 25,
   "id": "ee6a3bed",
   "metadata": {},
   "outputs": [
    {
     "name": "stdout",
     "output_type": "stream",
     "text": [
      "Churn               False  True  Percentage_Churn\n",
      "International plan                               \n",
      "No                    538    76         12.377850\n",
      "Yes                    34    19         35.849057\n"
     ]
    }
   ],
   "source": [
    "Internatinal_plan_data=pd.crosstab(train['International plan'], train['Churn'])\n",
    "Internatinal_plan_data['Percentage_Churn']=Internatinal_plan_data.apply(lambda x: x[1]*100/(x[0]+x[1]),axis=1)\n",
    "print(Internatinal_plan_data)\n"
   ]
  },
  {
   "cell_type": "code",
   "execution_count": 26,
   "id": "d7a9ce6c",
   "metadata": {},
   "outputs": [
    {
     "data": {
      "text/plain": [
       "<AxesSubplot:xlabel='International plan', ylabel='count'>"
      ]
     },
     "execution_count": 26,
     "metadata": {},
     "output_type": "execute_result"
    },
    {
     "data": {
      "image/png": "[encoded data removed]",
      "text/plain": [
       "<Figure size 864x504 with 1 Axes>"
      ]
     },
     "metadata": {},
     "output_type": "display_data"
    }
   ],
   "source": [
    "#Analysing by using couuntplot\n",
    "sns.countplot(x='International plan',hue='Churn',data=train)"
   ]
  },
  {
   "cell_type": "markdown",
   "id": "6e7a6b11",
   "metadata": {},
   "source": [
    "From above analysis we get that who have international plan 35.84% people churn.\n",
    "whereas among those who don't have international plan only 12.37% people churn .\n",
    "So, basically the people who bought international plan are churning in big number .\n",
    "Probably because of connectivity issues or high all charge ."
   ]
  },
  {
   "cell_type": "markdown",
   "id": "3c422877",
   "metadata": {},
   "source": [
    "# Analyzing Voice mail plan column"
   ]
  },
  {
   "cell_type": "code",
   "execution_count": 27,
   "id": "d6bc223d",
   "metadata": {},
   "outputs": [
    {
     "data": {
      "text/plain": [
       "No     478\n",
       "Yes    189\n",
       "Name: Voice mail plan, dtype: int64"
      ]
     },
     "execution_count": 27,
     "metadata": {},
     "output_type": "execute_result"
    }
   ],
   "source": [
    "train['Voice mail plan'].value_counts() "
   ]
  },
  {
   "cell_type": "code",
   "execution_count": 28,
   "id": "b72e2584",
   "metadata": {},
   "outputs": [
    {
     "name": "stdout",
     "output_type": "stream",
     "text": [
      "Churn            False  True  Percentage_Churn\n",
      "Voice mail plan                               \n",
      "No                 398    80         16.736402\n",
      "Yes                174    15          7.936508\n"
     ]
    }
   ],
   "source": [
    "# calculating Customer service calls vs churn percentage \n",
    "Voice_mail_plan_data=pd.crosstab(train['Voice mail plan'],train['Churn'])\n",
    "Voice_mail_plan_data['Percentage_Churn']=Voice_mail_plan_data.apply(lambda x: x[1]*100/(x[0]+x[1]),axis=1)\n",
    "print(Voice_mail_plan_data)"
   ]
  },
  {
   "cell_type": "markdown",
   "id": "896eb754",
   "metadata": {},
   "source": [
    "From above analysis we get that who have Voice mail plan 8% people churn.\n",
    "So, basically the people who bought Voice mail plan are churning in small number, it can be reduced by giving discount the plan or some other sceme related to voice plan .\n"
   ]
  },
  {
   "cell_type": "markdown",
   "id": "845e3609",
   "metadata": {},
   "source": [
    "# Analyzing Number vmail messages column"
   ]
  },
  {
   "cell_type": "code",
   "execution_count": 29,
   "id": "60457295",
   "metadata": {},
   "outputs": [
    {
     "data": {
      "text/plain": [
       "0     478\n",
       "29     14\n",
       "36     11\n",
       "27     10\n",
       "31     10\n",
       "33      9\n",
       "28      9\n",
       "30      9\n",
       "26      9\n",
       "20      8\n",
       "35      8\n",
       "39      8\n",
       "22      8\n",
       "32      8\n",
       "21      6\n",
       "41      6\n",
       "23      6\n",
       "34      6\n",
       "24      5\n",
       "19      5\n",
       "37      4\n",
       "25      4\n",
       "38      3\n",
       "40      3\n",
       "45      2\n",
       "14      2\n",
       "11      2\n",
       "17      2\n",
       "42      2\n",
       "48      2\n",
       "16      2\n",
       "13      1\n",
       "18      1\n",
       "49      1\n",
       "15      1\n",
       "51      1\n",
       "46      1\n",
       "Name: Number vmail messages, dtype: int64"
      ]
     },
     "execution_count": 29,
     "metadata": {},
     "output_type": "execute_result"
    }
   ],
   "source": [
    "train['Number vmail messages'].value_counts() "
   ]
  },
  {
   "cell_type": "code",
   "execution_count": 30,
   "id": "a7be49e0",
   "metadata": {},
   "outputs": [
    {
     "data": {
      "text/plain": [
       "0     478\n",
       "29     14\n",
       "36     11\n",
       "27     10\n",
       "31     10\n",
       "33      9\n",
       "28      9\n",
       "30      9\n",
       "26      9\n",
       "20      8\n",
       "35      8\n",
       "39      8\n",
       "22      8\n",
       "32      8\n",
       "21      6\n",
       "41      6\n",
       "23      6\n",
       "34      6\n",
       "24      5\n",
       "19      5\n",
       "37      4\n",
       "25      4\n",
       "38      3\n",
       "40      3\n",
       "45      2\n",
       "14      2\n",
       "11      2\n",
       "17      2\n",
       "42      2\n",
       "48      2\n",
       "16      2\n",
       "13      1\n",
       "18      1\n",
       "49      1\n",
       "15      1\n",
       "51      1\n",
       "46      1\n",
       "Name: Number vmail messages, dtype: int64"
      ]
     },
     "execution_count": 30,
     "metadata": {},
     "output_type": "execute_result"
    }
   ],
   "source": [
    "train['Number vmail messages'].value_counts() "
   ]
  },
  {
   "cell_type": "code",
   "execution_count": 31,
   "id": "efc84835",
   "metadata": {},
   "outputs": [
    {
     "data": {
      "text/plain": [
       "<AxesSubplot:xlabel='Number vmail messages', ylabel='Density'>"
      ]
     },
     "execution_count": 31,
     "metadata": {},
     "output_type": "execute_result"
    },
    {
     "data": {
      "image/png": "[encoded data removed]",
      "text/plain": [
       "<Figure size 864x504 with 1 Axes>"
      ]
     },
     "metadata": {},
     "output_type": "display_data"
    }
   ],
   "source": [
    "#Analysing by displot \n",
    "sns.distplot(train['Number vmail messages'])\n"
   ]
  },
  {
   "cell_type": "markdown",
   "id": "8bb2333a",
   "metadata": {},
   "source": [
    "After analyzing above Number voice mail feature data we get an insight that when there are more than 20 voice mail mesages the there is a churn .\n",
    "For that, we need to improve the quality of voice mail."
   ]
  },
  {
   "cell_type": "markdown",
   "id": "33987651",
   "metadata": {},
   "source": [
    "# Analyzing Customer service column"
   ]
  },
  {
   "cell_type": "code",
   "execution_count": 32,
   "id": "0d7e0d7f",
   "metadata": {},
   "outputs": [
    {
     "data": {
      "text/plain": [
       "1    236\n",
       "2    151\n",
       "0    142\n",
       "3     81\n",
       "4     33\n",
       "5     17\n",
       "6      5\n",
       "8      1\n",
       "7      1\n",
       "Name: Customer service calls, dtype: int64"
      ]
     },
     "execution_count": 32,
     "metadata": {},
     "output_type": "execute_result"
    }
   ],
   "source": [
    "train['Customer service calls'].value_counts() "
   ]
  },
  {
   "cell_type": "code",
   "execution_count": 33,
   "id": "91dae377",
   "metadata": {},
   "outputs": [
    {
     "name": "stdout",
     "output_type": "stream",
     "text": [
      "Churn                   False  True  Percentage_Churn\n",
      "Customer service calls                               \n",
      "0                         129    13          9.154930\n",
      "1                         213    23          9.745763\n",
      "2                         126    25         16.556291\n",
      "3                          74     7          8.641975\n",
      "4                          21    12         36.363636\n",
      "5                           6    11         64.705882\n",
      "6                           1     4         80.000000\n",
      "7                           1     0          0.000000\n",
      "8                           1     0          0.000000\n"
     ]
    }
   ],
   "source": [
    "# calculating Customer service calls vs churn percentage \n",
    "Customer_service_calls_data=pd.crosstab(train['Customer service calls'],train['Churn'])\n",
    "Customer_service_calls_data['Percentage_Churn']=Customer_service_calls_data.apply(lambda x: x[1]*100/(x[0]+x[1]),axis=1)\n",
    "print(Customer_service_calls_data)"
   ]
  },
  {
   "cell_type": "code",
   "execution_count": 34,
   "id": "6d956656",
   "metadata": {},
   "outputs": [
    {
     "data": {
      "text/plain": [
       "<AxesSubplot:xlabel='Customer service calls', ylabel='count'>"
      ]
     },
     "execution_count": 34,
     "metadata": {},
     "output_type": "execute_result"
    },
    {
     "data": {
      "image/png": "[encoded data removed]",
      "text/plain": [
       "<Figure size 864x504 with 1 Axes>"
      ]
     },
     "metadata": {},
     "output_type": "display_data"
    }
   ],
   "source": [
    "sns.countplot(x='Customer service calls',hue='Churn',data=train)"
   ]
  },
  {
   "cell_type": "markdown",
   "id": "218104a5",
   "metadata": {},
   "source": [
    "It is observed from above analysis that , mostly because of bad customer service, people tend to leave the operator.\n",
    "The above data indicating that those customers who called the service 5 times or above those customer churn percentage is higher than 60%"
   ]
  },
  {
   "cell_type": "code",
   "execution_count": null,
   "id": "9095f579",
   "metadata": {},
   "outputs": [],
   "source": []
  },
  {
   "cell_type": "markdown",
   "id": "5d25506f",
   "metadata": {},
   "source": [
    "\n",
    "NOTE- \n",
    "•\tTotal day minutes  ,Total day calls,  Total day charge ,Total eve minutes  ,Total eve calls ,Total eve charge ,Total night minutes  ,Total night calls ,Total night charge ,Total intl minutes ,Total intl calls  ,Total intl charge , these columns didn’t play any kind of role regarding the churn rate .\n",
    "\n"
   ]
  },
  {
   "cell_type": "code",
   "execution_count": 35,
   "id": "06621e27",
   "metadata": {},
   "outputs": [],
   "source": [
    "train['Total charge'] = train['Total day charge'] + train['Total eve charge'] + train['Total night charge'] + train['Total intl charge']\n",
    "test['Total charge'] = test['Total day charge'] + test['Total eve charge'] + test['Total night charge'] + test['Total intl charge']\n"
   ]
  },
  {
   "cell_type": "code",
   "execution_count": 36,
   "id": "5d1bd4d7",
   "metadata": {},
   "outputs": [
    {
     "data": {
      "text/plain": [
       "0      73.32\n",
       "1      54.20\n",
       "2      92.29\n",
       "3      41.05\n",
       "4      49.60\n",
       "       ...  \n",
       "662    50.79\n",
       "663    44.06\n",
       "664    53.20\n",
       "665    57.52\n",
       "666    57.53\n",
       "Name: Total charge, Length: 667, dtype: float64"
      ]
     },
     "execution_count": 36,
     "metadata": {},
     "output_type": "execute_result"
    }
   ],
   "source": [
    "train['Total charge'] "
   ]
  },
  {
   "cell_type": "raw",
   "id": "3f811a64",
   "metadata": {},
   "source": [
    "Insights from the above observation\n",
    "1)Total percentage of churn = 14 %\n",
    "2)Texas has highest number of churns\n",
    "3)Total charges to be paid are more for churned customers, late payment system can be facilited\n",
    "4)Churned customers have called more for customer service. Customer service can be improved to retain such customers"
   ]
  },
  {
   "cell_type": "code",
   "execution_count": null,
   "id": "391a0d85",
   "metadata": {},
   "outputs": [],
   "source": []
  },
  {
   "cell_type": "code",
   "execution_count": 37,
   "id": "fd2545e3",
   "metadata": {},
   "outputs": [],
   "source": [
    "from sklearn.model_selection import train_test_split\n",
    "from sklearn.preprocessing import LabelEncoder\n",
    "import matplotlib.pyplot as plt\n",
    "from sklearn.preprocessing import StandardScaler\n",
    "from sklearn.linear_model import LogisticRegression\n",
    "from sklearn.metrics import confusion_matrix\n",
    "from sklearn.ensemble import RandomForestClassifier\n",
    "from sklearn.metrics import classification_report"
   ]
  },
  {
   "cell_type": "markdown",
   "id": "8288f8d5",
   "metadata": {},
   "source": [
    "# Data Cleaning and transformation¶"
   ]
  },
  {
   "cell_type": "markdown",
   "id": "3b4022b3",
   "metadata": {},
   "source": [
    "Now,we'll clean the data and prepare it for prediction.\n",
    "\n",
    "As you noticed earlier, when we used .info() with both train and test datasets, we haven't found any null values ( luckily!), but if we had found them, we would either drop columns with the missing values or impute the missing values to the mean, median or mode of the values in the same column.\n",
    "\n",
    "We still have columns with categorical values though (dtype = object), so we should deal with them because predictive models deal only with numerical values.\n",
    "\n",
    "For 'Churn', 'International plan' and 'Voice mail plan' columns, I will use multiple techniques to deal with categorical values for illustration purpose, but you can use only one of them if you want, since each of the 3 column has only 2 unique values.\n",
    "\n"
   ]
  },
  {
   "cell_type": "code",
   "execution_count": 38,
   "id": "d37a0fbf",
   "metadata": {},
   "outputs": [
    {
     "data": {
      "text/plain": [
       "dtype('bool')"
      ]
     },
     "execution_count": 38,
     "metadata": {},
     "output_type": "execute_result"
    }
   ],
   "source": [
    "train['Churn'].dtype"
   ]
  },
  {
   "cell_type": "code",
   "execution_count": 39,
   "id": "b17b863d",
   "metadata": {},
   "outputs": [],
   "source": [
    "train['Churn'] = train['Churn'].map({True:1,False:0}) # no need to do it for test dataset because Churn column will be dropped later\n",
    "# train['Churn'].replace(['True','False'],[1,0],inplace=True)"
   ]
  },
  {
   "cell_type": "code",
   "execution_count": 40,
   "id": "a871a88b",
   "metadata": {},
   "outputs": [
    {
     "data": {
      "text/plain": [
       "0      0\n",
       "1      1\n",
       "2      1\n",
       "3      0\n",
       "4      0\n",
       "      ..\n",
       "662    0\n",
       "663    0\n",
       "664    0\n",
       "665    0\n",
       "666    0\n",
       "Name: Churn, Length: 667, dtype: int64"
      ]
     },
     "execution_count": 40,
     "metadata": {},
     "output_type": "execute_result"
    }
   ],
   "source": [
    "train['Churn']"
   ]
  },
  {
   "cell_type": "code",
   "execution_count": 41,
   "id": "0773c92d",
   "metadata": {},
   "outputs": [],
   "source": [
    "train['International plan'].replace(['No','Yes'],[0,1],inplace=True)\n",
    "\n",
    "test['Churn'] = test['Churn'].map({True:1,False:0})\n",
    "test['International plan'].replace(['No','Yes'],[0,1],inplace=True)\n",
    "\n",
    "encoder = LabelEncoder()\n",
    "voice_train = encoder.fit_transform(train['Voice mail plan'])\n",
    "train['Voice mail plan'] = voice_train\n",
    "\n",
    "voice_test = encoder.transform(test['Voice mail plan'])\n",
    "test['Voice mail plan'] = voice_test"
   ]
  },
  {
   "cell_type": "code",
   "execution_count": 42,
   "id": "f3fd7494",
   "metadata": {},
   "outputs": [
    {
     "data": {
      "text/plain": [
       "0      0\n",
       "1      1\n",
       "2      1\n",
       "3      0\n",
       "4      0\n",
       "      ..\n",
       "662    0\n",
       "663    0\n",
       "664    0\n",
       "665    0\n",
       "666    0\n",
       "Name: Churn, Length: 667, dtype: int64"
      ]
     },
     "execution_count": 42,
     "metadata": {},
     "output_type": "execute_result"
    }
   ],
   "source": [
    "train['Churn']"
   ]
  },
  {
   "cell_type": "code",
   "execution_count": 43,
   "id": "4654d429",
   "metadata": {},
   "outputs": [
    {
     "data": {
      "text/plain": [
       "0       0\n",
       "1       0\n",
       "2       0\n",
       "3       0\n",
       "4       0\n",
       "       ..\n",
       "2661    0\n",
       "2662    0\n",
       "2663    0\n",
       "2664    0\n",
       "2665    0\n",
       "Name: Churn, Length: 2666, dtype: int64"
      ]
     },
     "execution_count": 43,
     "metadata": {},
     "output_type": "execute_result"
    }
   ],
   "source": [
    "test['Churn']"
   ]
  },
  {
   "cell_type": "code",
   "execution_count": 44,
   "id": "67bd7810",
   "metadata": {},
   "outputs": [
    {
     "data": {
      "text/plain": [
       "<AxesSubplot:>"
      ]
     },
     "execution_count": 44,
     "metadata": {},
     "output_type": "execute_result"
    },
    {
     "data": {
      "image/png": "[encoded data removed]",
      "text/plain": [
       "<Figure size 1296x864 with 2 Axes>"
      ]
     },
     "metadata": {},
     "output_type": "display_data"
    }
   ],
   "source": [
    "plt.figure(figsize=(18,12))\n",
    "sns.heatmap(train.corr() , annot =True,cmap='crest')"
   ]
  },
  {
   "cell_type": "markdown",
   "id": "e390e2b8",
   "metadata": {},
   "source": [
    "Some features are correlated to each other and have a high coefficient.\n",
    "Total day minutes and Total day charge are directly related because their coeff is 1 hence let's delete all the columns with the minutes count since they are redundant."
   ]
  },
  {
   "cell_type": "code",
   "execution_count": 45,
   "id": "59885b99",
   "metadata": {},
   "outputs": [],
   "source": [
    "train.drop(['Total day minutes','Total eve minutes','Total night minutes', 'Total intl minutes'], inplace=True,axis=1)"
   ]
  },
  {
   "cell_type": "code",
   "execution_count": 46,
   "id": "c1868f5e",
   "metadata": {},
   "outputs": [],
   "source": [
    "feat_cols = ['International plan','Total charge','Customer service calls']\n",
    "X_train = train[feat_cols]\n",
    "y_train = train['Churn']\n",
    "X_test = test[feat_cols]\n",
    "y_test = test['Churn']"
   ]
  },
  {
   "cell_type": "code",
   "execution_count": 47,
   "id": "baa6cbce",
   "metadata": {},
   "outputs": [
    {
     "data": {
      "text/html": [
       "<div>\n",
       "<style scoped>\n",
       "    .dataframe tbody tr th:only-of-type {\n",
       "        vertical-align: middle;\n",
       "    }\n",
       "\n",
       "    .dataframe tbody tr th {\n",
       "        vertical-align: top;\n",
       "    }\n",
       "\n",
       "    .dataframe thead th {\n",
       "        text-align: right;\n",
       "    }\n",
       "</style>\n",
       "<table border=\"1\" class=\"dataframe\">\n",
       "  <thead>\n",
       "    <tr style=\"text-align: right;\">\n",
       "      <th></th>\n",
       "      <th>International plan</th>\n",
       "      <th>Total charge</th>\n",
       "      <th>Customer service calls</th>\n",
       "    </tr>\n",
       "  </thead>\n",
       "  <tbody>\n",
       "    <tr>\n",
       "      <th>0</th>\n",
       "      <td>0</td>\n",
       "      <td>73.32</td>\n",
       "      <td>1</td>\n",
       "    </tr>\n",
       "    <tr>\n",
       "      <th>1</th>\n",
       "      <td>0</td>\n",
       "      <td>54.20</td>\n",
       "      <td>4</td>\n",
       "    </tr>\n",
       "    <tr>\n",
       "      <th>2</th>\n",
       "      <td>0</td>\n",
       "      <td>92.29</td>\n",
       "      <td>4</td>\n",
       "    </tr>\n",
       "    <tr>\n",
       "      <th>3</th>\n",
       "      <td>0</td>\n",
       "      <td>41.05</td>\n",
       "      <td>2</td>\n",
       "    </tr>\n",
       "    <tr>\n",
       "      <th>4</th>\n",
       "      <td>0</td>\n",
       "      <td>49.60</td>\n",
       "      <td>1</td>\n",
       "    </tr>\n",
       "  </tbody>\n",
       "</table>\n",
       "</div>"
      ],
      "text/plain": [
       "   International plan  Total charge  Customer service calls\n",
       "0                   0         73.32                       1\n",
       "1                   0         54.20                       4\n",
       "2                   0         92.29                       4\n",
       "3                   0         41.05                       2\n",
       "4                   0         49.60                       1"
      ]
     },
     "execution_count": 47,
     "metadata": {},
     "output_type": "execute_result"
    }
   ],
   "source": [
    "X_train.head()"
   ]
  },
  {
   "cell_type": "code",
   "execution_count": 48,
   "id": "e406d906",
   "metadata": {},
   "outputs": [
    {
     "data": {
      "text/plain": [
       "0       0\n",
       "1       0\n",
       "2       0\n",
       "3       0\n",
       "4       0\n",
       "       ..\n",
       "2661    0\n",
       "2662    0\n",
       "2663    0\n",
       "2664    0\n",
       "2665    0\n",
       "Name: Churn, Length: 2666, dtype: int64"
      ]
     },
     "execution_count": 48,
     "metadata": {},
     "output_type": "execute_result"
    }
   ],
   "source": [
    "y_test"
   ]
  },
  {
   "cell_type": "code",
   "execution_count": 49,
   "id": "6ebc2420",
   "metadata": {},
   "outputs": [],
   "source": [
    "sc=StandardScaler()\n",
    "X_train = sc.fit_transform(X_train)\n",
    "X_test = sc.transform (X_test)"
   ]
  },
  {
   "cell_type": "code",
   "execution_count": 50,
   "id": "ae96e3c4",
   "metadata": {},
   "outputs": [
    {
     "data": {
      "text/plain": [
       "array([[-0.29380132,  1.27851712, -0.4230984 ],\n",
       "       [-0.29380132, -0.52928064,  1.82855024],\n",
       "       [-0.29380132,  3.07213238,  1.82855024],\n",
       "       ...,\n",
       "       [-0.29380132, -0.62383074,  1.0780007 ],\n",
       "       [-0.29380132, -0.21537434, -0.4230984 ],\n",
       "       [ 3.40366063, -0.21442884,  0.32745115]])"
      ]
     },
     "execution_count": 50,
     "metadata": {},
     "output_type": "execute_result"
    }
   ],
   "source": [
    "X_train"
   ]
  },
  {
   "cell_type": "code",
   "execution_count": 51,
   "id": "6826be0f",
   "metadata": {},
   "outputs": [
    {
     "data": {
      "text/plain": [
       "array([[-0.29380132,  1.49030933, -0.4230984 ],\n",
       "       [-0.29380132, -0.05274818, -0.4230984 ],\n",
       "       [-0.29380132,  0.2356296 , -1.17364794],\n",
       "       ...,\n",
       "       [-0.29380132,  0.35287172,  1.0780007 ],\n",
       "       [-0.29380132,  0.75092761,  0.32745115],\n",
       "       [-0.29380132,  1.62740697, -1.17364794]])"
      ]
     },
     "execution_count": 51,
     "metadata": {},
     "output_type": "execute_result"
    }
   ],
   "source": [
    "X_test"
   ]
  },
  {
   "cell_type": "markdown",
   "id": "50a2bf67",
   "metadata": {},
   "source": [
    "# Let's predict using logistic regression¶\n"
   ]
  },
  {
   "cell_type": "code",
   "execution_count": 52,
   "id": "9aca6bce",
   "metadata": {},
   "outputs": [],
   "source": [
    "from sklearn.model_selection import train_test_split"
   ]
  },
  {
   "cell_type": "code",
   "execution_count": 53,
   "id": "56f3c9db",
   "metadata": {},
   "outputs": [],
   "source": [
    "# X_train ,X_test ,y_train,y_test=train_test_split(X,y,train_size=0.8)"
   ]
  },
  {
   "cell_type": "code",
   "execution_count": 54,
   "id": "d27a414f",
   "metadata": {},
   "outputs": [
    {
     "data": {
      "text/plain": [
       "(667, 3)"
      ]
     },
     "execution_count": 54,
     "metadata": {},
     "output_type": "execute_result"
    }
   ],
   "source": [
    "X_train.shape"
   ]
  },
  {
   "cell_type": "code",
   "execution_count": 55,
   "id": "e65c2360",
   "metadata": {},
   "outputs": [
    {
     "data": {
      "text/plain": [
       "(667,)"
      ]
     },
     "execution_count": 55,
     "metadata": {},
     "output_type": "execute_result"
    }
   ],
   "source": [
    "y_train.shape"
   ]
  },
  {
   "cell_type": "code",
   "execution_count": 56,
   "id": "8bfe30dd",
   "metadata": {},
   "outputs": [
    {
     "data": {
      "text/plain": [
       "(2666, 3)"
      ]
     },
     "execution_count": 56,
     "metadata": {},
     "output_type": "execute_result"
    }
   ],
   "source": [
    "X_test.shape"
   ]
  },
  {
   "cell_type": "code",
   "execution_count": 57,
   "id": "8c29a5e5",
   "metadata": {},
   "outputs": [
    {
     "data": {
      "text/plain": [
       "(2666,)"
      ]
     },
     "execution_count": 57,
     "metadata": {},
     "output_type": "execute_result"
    }
   ],
   "source": [
    "y_test.shape"
   ]
  },
  {
   "cell_type": "code",
   "execution_count": 58,
   "id": "b323cef9",
   "metadata": {},
   "outputs": [],
   "source": [
    "logistic_model=LogisticRegression()\n",
    "logistic_model.fit(X_train, y_train)\n",
    "predictions = logistic_model.predict(X_test)"
   ]
  },
  {
   "cell_type": "code",
   "execution_count": 59,
   "id": "b1f72d5e",
   "metadata": {},
   "outputs": [
    {
     "name": "stdout",
     "output_type": "stream",
     "text": [
      "Percentage Accuracy with logistic model is  85.5588897224306\n"
     ]
    }
   ],
   "source": [
    "score = logistic_model.score(X_test, y_test)\n",
    "print(\"Percentage Accuracy with logistic model is \",score*100)"
   ]
  },
  {
   "cell_type": "code",
   "execution_count": 60,
   "id": "01e44ef6",
   "metadata": {},
   "outputs": [
    {
     "name": "stdout",
     "output_type": "stream",
     "text": [
      "LogisticRegression Train Score is :  86.06\n",
      "LogisticRegression test Score is :  85.56\n"
     ]
    }
   ],
   "source": [
    "#Calculating Details\n",
    "acc_log_train_LGR = round(logistic_model.score(X_train, y_train) * 100, 2)\n",
    "acc_log_test_LGR= round(logistic_model.score(X_test, y_test) * 100, 2)\n",
    "print('LogisticRegression Train Score is : ',  acc_log_train_LGR)\n",
    "print('LogisticRegression test Score is : ' , acc_log_test_LGR)"
   ]
  },
  {
   "cell_type": "code",
   "execution_count": 61,
   "id": "0045c74a",
   "metadata": {},
   "outputs": [
    {
     "name": "stdout",
     "output_type": "stream",
     "text": [
      "Percentage Accuracy with logistic model is  =  85.5588897224306\n"
     ]
    }
   ],
   "source": [
    "#Calculating Prediction\n",
    "from sklearn.metrics import accuracy_score\n",
    "accuracy= accuracy_score(y_test , predictions )\n",
    "\n",
    "print('Percentage Accuracy with logistic model is  = ', accuracy*100 )"
   ]
  },
  {
   "cell_type": "code",
   "execution_count": 82,
   "id": "df552dc6",
   "metadata": {},
   "outputs": [
    {
     "data": {
      "text/plain": [
       "0.8555888972243061"
      ]
     },
     "execution_count": 82,
     "metadata": {},
     "output_type": "execute_result"
    }
   ],
   "source": [
    "accuracy"
   ]
  },
  {
   "cell_type": "code",
   "execution_count": 62,
   "id": "14ef17d9",
   "metadata": {},
   "outputs": [
    {
     "name": "stdout",
     "output_type": "stream",
     "text": [
      "Classification Report:\n",
      "              precision    recall  f1-score   support\n",
      "\n",
      "           0       0.87      0.98      0.92      2278\n",
      "           1       0.51      0.15      0.23       388\n",
      "\n",
      "    accuracy                           0.86      2666\n",
      "   macro avg       0.69      0.56      0.58      2666\n",
      "weighted avg       0.82      0.86      0.82      2666\n",
      "\n"
     ]
    }
   ],
   "source": [
    "print(\"Classification Report:\")\n",
    "print(classification_report(y_test, predictions))"
   ]
  },
  {
   "cell_type": "code",
   "execution_count": 63,
   "id": "123bc67b",
   "metadata": {},
   "outputs": [
    {
     "data": {
      "text/plain": [
       "Text(0.5, 1.0, 'Logistic Matrix')"
      ]
     },
     "execution_count": 63,
     "metadata": {},
     "output_type": "execute_result"
    },
    {
     "data": {
      "image/png": "[encoded data removed]",
      "text/plain": [
       "<Figure size 864x504 with 2 Axes>"
      ]
     },
     "metadata": {},
     "output_type": "display_data"
    }
   ],
   "source": [
    "from sklearn.metrics import confusion_matrix\n",
    "logistic_cm = confusion_matrix(y_test,predictions)\n",
    "sns.heatmap(logistic_cm, annot=True, fmt='.2f', xticklabels=['False','True'],yticklabels=['False','True'])\n",
    "plt.xlabel('True class')\n",
    "plt.ylabel('Predicted class')\n",
    "plt.title('Logistic Matrix')"
   ]
  },
  {
   "cell_type": "code",
   "execution_count": null,
   "id": "665398ba",
   "metadata": {},
   "outputs": [],
   "source": []
  },
  {
   "cell_type": "markdown",
   "id": "148b3fb3",
   "metadata": {},
   "source": [
    "# Let's predict using KNN¶"
   ]
  },
  {
   "cell_type": "code",
   "execution_count": 64,
   "id": "c4e0a036",
   "metadata": {},
   "outputs": [],
   "source": [
    "from sklearn.metrics import accuracy_score\n",
    "from sklearn.cluster import KMeans\n",
    "from sklearn.neighbors import KNeighborsClassifier\n",
    "from sklearn.model_selection import GridSearchCV\n",
    "\n",
    "\n",
    "# from kmodes.kmodes import KModes"
   ]
  },
  {
   "cell_type": "code",
   "execution_count": 65,
   "id": "cc6a9ac6",
   "metadata": {},
   "outputs": [
    {
     "name": "stdout",
     "output_type": "stream",
     "text": [
      "{'n_neighbors': 5}\n"
     ]
    }
   ],
   "source": [
    "chosen_model = KNeighborsClassifier()\n",
    "param = {'n_neighbors': [1,2,3,4,5,6,7]}\n",
    "grid = GridSearchCV(estimator= chosen_model, param_grid=param, cv=5)\n",
    "grid.fit(X_train,y_train)\n",
    "print(grid.best_params_)"
   ]
  },
  {
   "cell_type": "code",
   "execution_count": 66,
   "id": "583e630f",
   "metadata": {},
   "outputs": [],
   "source": [
    "knn_model = KNeighborsClassifier(n_neighbors=5)\n",
    "knn_model.fit(X_train,y_train)\n",
    "pred_val = knn_model.predict(X_test)"
   ]
  },
  {
   "cell_type": "code",
   "execution_count": 67,
   "id": "28e5281f",
   "metadata": {},
   "outputs": [
    {
     "name": "stdout",
     "output_type": "stream",
     "text": [
      "KNN Train Score is :  93.4\n",
      "KNN test Score is :  91.19\n"
     ]
    }
   ],
   "source": [
    "#Calculating Details\n",
    "acc_knn_train = round(knn_model.score(X_train, y_train) * 100, 2)\n",
    "acc_knn_test =round(knn_model.score(X_test, y_test) * 100, 2)\n",
    "print('KNN Train Score is : ',  acc_knn_train )\n",
    "print('KNN test Score is : ' , acc_knn_test )"
   ]
  },
  {
   "cell_type": "code",
   "execution_count": 68,
   "id": "5a10276a",
   "metadata": {},
   "outputs": [
    {
     "name": "stdout",
     "output_type": "stream",
     "text": [
      "KNN accuracy: 0.912\n"
     ]
    }
   ],
   "source": [
    "#Calculating Prediction\n",
    "from sklearn.metrics import accuracy_score\n",
    "print('KNN accuracy: {:.3f}'.format(accuracy_score(y_test,pred_val)))"
   ]
  },
  {
   "cell_type": "code",
   "execution_count": 84,
   "id": "6a4a0d78",
   "metadata": {},
   "outputs": [
    {
     "data": {
      "text/plain": [
       "0.9118529632408102"
      ]
     },
     "execution_count": 84,
     "metadata": {},
     "output_type": "execute_result"
    }
   ],
   "source": [
    "knn_accuracy=accuracy_score(y_test,pred_val)\n",
    "knn_accuracy"
   ]
  },
  {
   "cell_type": "code",
   "execution_count": 85,
   "id": "f3df0257",
   "metadata": {},
   "outputs": [
    {
     "name": "stdout",
     "output_type": "stream",
     "text": [
      "0.8555888972243061 0.9118529632408102\n"
     ]
    }
   ],
   "source": [
    "print(accuracy,knn_accuracy)"
   ]
  },
  {
   "cell_type": "code",
   "execution_count": null,
   "id": "c555086b",
   "metadata": {},
   "outputs": [],
   "source": []
  },
  {
   "cell_type": "code",
   "execution_count": 69,
   "id": "586edf6c",
   "metadata": {},
   "outputs": [
    {
     "name": "stdout",
     "output_type": "stream",
     "text": [
      "Classification Report:\n",
      "              precision    recall  f1-score   support\n",
      "\n",
      "           0       0.93      0.97      0.95      2278\n",
      "           1       0.77      0.56      0.65       388\n",
      "\n",
      "    accuracy                           0.91      2666\n",
      "   macro avg       0.85      0.77      0.80      2666\n",
      "weighted avg       0.91      0.91      0.91      2666\n",
      "\n"
     ]
    }
   ],
   "source": [
    "print(\"Classification Report:\")\n",
    "print(classification_report(y_test, pred_val))"
   ]
  },
  {
   "cell_type": "code",
   "execution_count": 70,
   "id": "ae1ad94b",
   "metadata": {},
   "outputs": [
    {
     "data": {
      "text/plain": [
       "Text(0.5, 1.0, 'KNN')"
      ]
     },
     "execution_count": 70,
     "metadata": {},
     "output_type": "execute_result"
    },
    {
     "data": {
      "image/png": "[encoded data removed]",
      "text/plain": [
       "<Figure size 864x504 with 2 Axes>"
      ]
     },
     "metadata": {},
     "output_type": "display_data"
    }
   ],
   "source": [
    "y_pred = knn_model.predict(X_test)\n",
    "from sklearn.metrics import confusion_matrix\n",
    "knn_cm = confusion_matrix(y_test,pred_val)\n",
    "sns.heatmap(knn_cm, annot=True, fmt='.2f')\n",
    "plt.xlabel('True class')\n",
    "plt.ylabel('Predicted class')\n",
    "plt.title('KNN')"
   ]
  },
  {
   "cell_type": "markdown",
   "id": "7d9132b9",
   "metadata": {},
   "source": [
    "From the above two classification models (Logistic and KNN). KNN is performing better than logistic regression"
   ]
  },
  {
   "cell_type": "code",
   "execution_count": 71,
   "id": "f1547623",
   "metadata": {},
   "outputs": [
    {
     "data": {
      "image/png": "[encoded data removed]",
      "text/plain": [
       "<Figure size 864x504 with 1 Axes>"
      ]
     },
     "metadata": {},
     "output_type": "display_data"
    }
   ],
   "source": [
    "from sklearn.metrics import roc_auc_score\n",
    "from sklearn.metrics import roc_curve\n",
    "logit_roc_auc = roc_auc_score(y_test, predictions)\n",
    "fpr, tpr, thresholds = roc_curve(y_test, logistic_model.predict_proba(X_test)[:,1])\n",
    "rf_roc_auc = roc_auc_score(y_test, pred_val)\n",
    "rf_fpr, rf_tpr, rf_thresholds = roc_curve(y_test, knn_model.predict_proba(X_test)[:,1])\n",
    "plt.figure()\n",
    "plt.plot(fpr, tpr, label='Logistic Regression (area = %0.2f)' % logit_roc_auc)\n",
    "plt.plot(rf_fpr, rf_tpr, label='KNN (area = %0.2f)' % rf_roc_auc)\n",
    "plt.plot([0, 1], [0, 1],'r--')\n",
    "plt.xlim([0.0, 1.0])\n",
    "plt.ylim([0.0, 1.05])\n",
    "plt.xlabel('False Positive Rate')\n",
    "plt.ylabel('True Positive Rate')\n",
    "plt.title('Receiver operating characteristic')\n",
    "plt.legend(loc=\"lower right\")\n",
    "plt.show()"
   ]
  },
  {
   "cell_type": "markdown",
   "id": "cbebd97d",
   "metadata": {},
   "source": [
    "# \tRecommendations :\n",
    "1)\tThe company can reduce Day calls rates as there is massive difference between call rates and night calls rates.\n",
    "2)\tThe company also look at giving offers to their subscription plans so that non subscriber of any plan can be nudged towards purchasing as subscriptions.\n",
    "3)\tThe company can also work towards reducing international call rates so that international call plan holders will not churn the company.\n",
    "4)\tThe company can look at reducing customer service calls by resolving the customer issues as soon as possible, because the customers are likely to churn the company as the number of calls increases.\n",
    "5)\tThe telecom company has to provide favorable offers to the customers whose account length is above 150 as loyalty bonus so that the customers won’t churn.\n",
    "6)\tThe company might consider the rewarding the states with high retention rates and do so very publicly so that customers from others states are motivated to join the services of the company more.\n",
    "7)\tThe company might also consider doing surveys in low retention rates and checking whether there exits any network issues or not. \n"
   ]
  },
  {
   "cell_type": "code",
   "execution_count": 97,
   "id": "cf60a8da",
   "metadata": {},
   "outputs": [
    {
     "data": {
      "text/html": [
       "<div>\n",
       "<style scoped>\n",
       "    .dataframe tbody tr th:only-of-type {\n",
       "        vertical-align: middle;\n",
       "    }\n",
       "\n",
       "    .dataframe tbody tr th {\n",
       "        vertical-align: top;\n",
       "    }\n",
       "\n",
       "    .dataframe thead th {\n",
       "        text-align: right;\n",
       "    }\n",
       "</style>\n",
       "<table border=\"1\" class=\"dataframe\">\n",
       "  <thead>\n",
       "    <tr style=\"text-align: right;\">\n",
       "      <th></th>\n",
       "      <th>Accuracy_score</th>\n",
       "    </tr>\n",
       "  </thead>\n",
       "  <tbody>\n",
       "    <tr>\n",
       "      <th>logistic</th>\n",
       "      <td>85</td>\n",
       "    </tr>\n",
       "    <tr>\n",
       "      <th>knn</th>\n",
       "      <td>91</td>\n",
       "    </tr>\n",
       "  </tbody>\n",
       "</table>\n",
       "</div>"
      ],
      "text/plain": [
       "          Accuracy_score\n",
       "logistic              85\n",
       "knn                   91"
      ]
     },
     "execution_count": 97,
     "metadata": {},
     "output_type": "execute_result"
    }
   ],
   "source": [
    "# component_df = pd.DataFrame(columns=['accuracy_score'],index=['logistic','knn']) \n",
    "\n",
    "data1={\"Accuracy_score\" :[85,91]}\n",
    "df=pd.DataFrame(data1,index=['logistic','knn'])\n",
    "df"
   ]
  },
  {
   "cell_type": "code",
   "execution_count": null,
   "id": "a8e1dd64",
   "metadata": {},
   "outputs": [],
   "source": []
  }
 ],
 "metadata": {
  "kernelspec": {
   "display_name": "Python 3 (ipykernel)",
   "language": "python",
   "name": "python3"
  },
  "language_info": {
   "codemirror_mode": {
    "name": "ipython",
    "version": 3
   },
   "file_extension": ".py",
   "mimetype": "text/x-python",
   "name": "python",
   "nbconvert_exporter": "python",
   "pygments_lexer": "ipython3",
   "version": "3.9.10"
  }
 },
 "nbformat": 4,
 "nbformat_minor": 5
}
